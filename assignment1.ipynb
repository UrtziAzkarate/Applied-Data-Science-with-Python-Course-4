{
 "cells": [
  {
   "cell_type": "markdown",
   "metadata": {
    "deletable": false,
    "editable": false,
    "nbgrader": {
     "cell_type": "markdown",
     "checksum": "ec8ef6131742cfe7cbfc4f02a34ca107",
     "grade": false,
     "grade_id": "cell-8a754c8ce8a16eeb",
     "locked": true,
     "schema_version": 3,
     "solution": false,
     "task": false
    }
   },
   "source": [
    "# Assignment 1\n",
    "\n",
    "In this assignment, you'll be working with messy medical data and using regex to extract relevant infromation from the data. \n",
    "\n",
    "Each line of the `dates.txt` file corresponds to a medical note. Each note has a date that needs to be extracted, but each date is encoded in one of many formats.\n",
    "\n",
    "The goal of this assignment is to correctly identify all of the different date variants encoded in this dataset and to properly normalize and sort the dates. \n",
    "\n",
    "Here is a list of some of the variants you might encounter in this dataset:\n",
    "* 04/20/2009; 04/20/09; 4/20/09; 4/3/09\n",
    "* Mar-20-2009; Mar 20, 2009; March 20, 2009;  Mar. 20, 2009; Mar 20 2009;\n",
    "* 20 Mar 2009; 20 March 2009; 20 Mar. 2009; 20 March, 2009\n",
    "* Mar 20th, 2009; Mar 21st, 2009; Mar 22nd, 2009\n",
    "* Feb 2009; Sep 2009; Oct 2010\n",
    "* 6/2008; 12/2009\n",
    "* 2009; 2010\n",
    "\n",
    "Once you have extracted these date patterns from the text, the next step is to sort them in ascending chronological order accoring to the following rules:\n",
    "* Assume all dates in xx/xx/xx format are mm/dd/yy\n",
    "* Assume all dates where year is encoded in only two digits are years from the 1900's (e.g. 1/5/89 is January 5th, 1989)\n",
    "* If the day is missing (e.g. 9/2009), assume it is the first day of the month (e.g. September 1, 2009).\n",
    "* If the month is missing (e.g. 2010), assume it is the first of January of that year (e.g. January 1, 2010).\n",
    "* Watch out for potential typos as this is a raw, real-life derived dataset.\n",
    "\n",
    "With these rules in mind, find the correct date in each note and return a pandas Series in chronological order of the original Series' indices. This Series should be sorted by a tie-break sort in the format of (\"extracted date\", \"original row number\").\n",
    "\n",
    "For example if the original series was this:\n",
    "\n",
    "    0    1999\n",
    "    1    2010\n",
    "    2    1978\n",
    "    3    2015\n",
    "    4    1985\n",
    "\n",
    "Your function should return this:\n",
    "\n",
    "    0    2\n",
    "    1    4\n",
    "    2    0\n",
    "    3    1\n",
    "    4    3\n",
    "\n",
    "Your score will be calculated using [Kendall's tau](https://en.wikipedia.org/wiki/Kendall_rank_correlation_coefficient), a correlation measure for ordinal data.\n",
    "\n",
    "*This function should return a Series of length 500 and dtype int.*"
   ]
  },
  {
   "cell_type": "code",
   "execution_count": 1,
   "metadata": {
    "deletable": false,
    "editable": false,
    "nbgrader": {
     "cell_type": "code",
     "checksum": "4b47ce38a503bfb1f113580f394d8667",
     "grade": false,
     "grade_id": "cell-28048f36edc32946",
     "locked": true,
     "schema_version": 3,
     "solution": false,
     "task": false
    }
   },
   "outputs": [
    {
     "data": {
      "text/plain": [
       "0         03/25/93 Total time of visit (in minutes):\\n\n",
       "1                       6/18/85 Primary Care Doctor:\\n\n",
       "2    sshe plans to move as of 7/8/71 In-Home Servic...\n",
       "3                7 on 9/27/75 Audit C Score Current:\\n\n",
       "4    2/6/96 sleep studyPain Treatment Pain Level (N...\n",
       "5                    .Per 7/06/79 Movement D/O note:\\n\n",
       "6    4, 5/18/78 Patient's thoughts about current su...\n",
       "7    10/24/89 CPT Code: 90801 - Psychiatric Diagnos...\n",
       "8                         3/7/86 SOS-10 Total Score:\\n\n",
       "9             (4/10/71)Score-1Audit C Score Current:\\n\n",
       "dtype: object"
      ]
     },
     "execution_count": 1,
     "metadata": {},
     "output_type": "execute_result"
    }
   ],
   "source": [
    "import pandas as pd\n",
    "\n",
    "doc = []\n",
    "with open('assets/dates.txt') as file:\n",
    "    for line in file:\n",
    "        doc.append(line)\n",
    "\n",
    "df = pd.Series(doc)\n",
    "df.head(10)"
   ]
  },
  {
   "cell_type": "code",
   "execution_count": 2,
   "metadata": {
    "deletable": false,
    "nbgrader": {
     "cell_type": "code",
     "checksum": "3e58e227860ae4b02d6bdddd81506787",
     "grade": false,
     "grade_id": "cell-d6f35a51303ed6ff",
     "locked": false,
     "schema_version": 3,
     "solution": true,
     "task": false
    },
    "tags": []
   },
   "outputs": [],
   "source": []
  },
  {
   "cell_type": "code",
   "execution_count": 254,
   "metadata": {},
   "outputs": [
    {
     "data": {
      "text/plain": [
       "0        9\n",
       "1       84\n",
       "2        2\n",
       "3       53\n",
       "4       28\n",
       "      ... \n",
       "495    427\n",
       "496    141\n",
       "497    186\n",
       "498    161\n",
       "499    413\n",
       "Name: index, Length: 500, dtype: int64"
      ]
     },
     "execution_count": 254,
     "metadata": {},
     "output_type": "execute_result"
    }
   ],
   "source": [
    "def date_sorter(): \n",
    "    tst1 = df.str.extractall(r\"((?:\\d{2}\\s)?(?:Jan|Feb|Mar|Apr|May|Jun|Jul|Aug|Sep|Oct|Nov|Dec)[a-z]*(?:[\\s\\.,]{,2}\\d{4}))\")\n",
    "    tst1 = tst1.replace('Janaury', 'January', regex=True).replace('Decemeber', 'December', regex=True)\n",
    "    dates1 = pd.to_datetime(tst1[0])\n",
    "    index_left1 = ~df.index.isin([x[0] for x in tst1.index])\n",
    "\n",
    "    tst2 = df[index_left1].str.extractall(r\"((?:Jan|Feb|Mar|Apr|May|Jun|Jul|Aug|Sep|Oct|Nov|Dec)[a-z]*[\\.\\s\\-]{1}[\\s]?\\d{1,2}[-,\\s][\\s]?\\d{4})\")\n",
    "    tst0 = tst1.append(tst2)\n",
    "    dates2 = pd.to_datetime(tst2[0])\n",
    "    index_left2 = ~df.index.isin([x[0] for x in tst0.index])\n",
    "\n",
    "    tst3 = df[index_left2].str.extractall(r\"((?:\\d{0,2}/\\d{0,2}/(?:\\d{2}))\\b|((?:\\d{0,2}-\\d{0,2}-(?:\\d{2})))\\b)\")\n",
    "    tstx = tst0.append(tst3)\n",
    "    dates3 = pd.to_datetime(tst3[0])\n",
    "    dates3 = dates3.dt.strftime('%Y-%m-%d').replace(r'^20', '19', regex=True)\n",
    "    index_left3 = ~df.index.isin([x[0] for x in tstx.index])\n",
    "\n",
    "    tst4 = df[index_left3].str.extractall(r'((?:\\d{0,2}/?\\d{0,2}/?[12]{1}\\d{3})|(?:\\d{0,2}-?\\d{0,2}-?(?:[12]{1}\\d{3}))|(?:[12]{1}\\d{3}))')\n",
    "    tstz = tstx.append(tst4)\n",
    "    dates4 = pd.to_datetime(tst4[0])\n",
    "    index_left4 = ~df.index.isin([x[0] for x in tstz.index])\n",
    "\n",
    "    #tst5 = df[index_left4].str.extractall(r'([12]{1}\\d{3})')\n",
    "    #tsty = tstz.append(tst5)\n",
    "    #dates5 = pd.to_datetime(tst5[0])\n",
    "    #index_left5 = ~df.index.isin([x[0] for x in tsty.index])\n",
    "\n",
    "    dates = dates1.append(dates2).append(dates3).append(dates4)#.append(dates5)\n",
    "\n",
    "    dates = pd.to_datetime(dates)\n",
    "    dates_final = dates.reset_index().set_index('level_0').drop(columns=['match'])\n",
    "    dates_final['index'] = dates_final.index\n",
    "    dates_final = dates_final.sort_values(by=[0,'index'])\n",
    "    return dates_final.reset_index()['index']\n",
    "\n",
    "date_sorter()"
   ]
  },
  {
   "cell_type": "code",
   "execution_count": null,
   "metadata": {},
   "outputs": [],
   "source": [
    "df.iloc[323]"
   ]
  },
  {
   "cell_type": "code",
   "execution_count": null,
   "metadata": {},
   "outputs": [],
   "source": [
    "tst4.reset_index().set_index('level_0').loc[323]"
   ]
  },
  {
   "cell_type": "code",
   "execution_count": 255,
   "metadata": {
    "tags": []
   },
   "outputs": [
    {
     "name": "stdout",
     "output_type": "stream",
     "text": [
      "Passed repeatability check\n",
      "Passed index check\n",
      "Passed secondary sort sample check\n",
      "Values checksums:\n",
      "     correct  learner  agree\n",
      "0       6695     6695   True\n",
      "10     14428    14428   True\n",
      "20     16742    16742   True\n",
      "30      9275     9275   True\n",
      "40     12290    12290   True\n",
      "50     14654    14654   True\n",
      "60      9421     9421   True\n",
      "70     10185    10185   True\n",
      "80     11464    11464   True\n",
      "90     16491    16491   True\n",
      "100    11797    11797   True\n",
      "110    14036    14036   True\n",
      "120    15459    15459   True\n",
      "130     9412     9412   True\n",
      "140    13069    13069   True\n",
      "150    10400    10400   True\n",
      "160    10498    10498   True\n",
      "170    14322    14322   True\n",
      "180    13274    13274   True\n",
      "190    11001    11001   True\n",
      "200    11383    11383   True\n",
      "210    11910    11910   True\n",
      "220    10977    10977   True\n",
      "230     9692     9692   True\n",
      "240    10199    10199   True\n",
      "250    10187    10187   True\n",
      "260    15456    15456   True\n",
      "270    13491    13491   True\n",
      "280     9186     9186   True\n",
      "290    13646    13646   True\n",
      "300    11142    11142   True\n",
      "310    13724    13724   True\n",
      "320    10994    10994   True\n",
      "330    12905    12905   True\n",
      "340    15968    15968   True\n",
      "350    16648    16648   True\n",
      "360    13966    13966   True\n",
      "370    14607    14607   True\n",
      "380    16932    16932   True\n",
      "390    14622    14622   True\n",
      "400    17942    17942   True\n",
      "410    18220    18220   True\n",
      "420    17818    17818   True\n",
      "430    18305    18305   True\n",
      "440    19633    19633   True\n",
      "450    12522    12522   True\n",
      "460    13978    13978   True\n",
      "470    18445    18445   True\n",
      "480    20156    20156   True\n",
      "490    14797    14797   True\n",
      "Passed values check\n"
     ]
    }
   ],
   "source": [
    "import numpy as np\n",
    "s_test = date_sorter()\n",
    "\n",
    "# check if running the code twice produces the same result\n",
    "try:\n",
    "    assert (date_sorter() == s_test).all()\n",
    "    print(\"Passed repeatability check\")\n",
    "except:\n",
    "    print(\"Failed repeatability check\")\n",
    "\n",
    "# check if the result has the expected index\n",
    "try:\n",
    "    assert type(date_sorter().index) == pd.RangeIndex\n",
    "    assert (date_sorter().index == pd.RangeIndex(start=0, stop=500, step=1)).all()\n",
    "    print(\"Passed index check\")\n",
    "except:\n",
    "    print(\"Failed index check\")\n",
    "\n",
    "# check the tie-break sort for a sample of records where some have the same date\n",
    "# note that this only tests a sample and does not check the entire answer\n",
    "try:\n",
    "    i_test = [s_test.index[s_test == v].values[0]\n",
    "              for v in [318, 369, 493, 252, 314, 410, 490]]\n",
    "    assert sorted(i_test) == i_test\n",
    "    print(\"Passed secondary sort sample check\")\n",
    "except:\n",
    "    print(\"Failed secondary sort sample check\")\n",
    "\n",
    "# check if the parsed dates appear to be correct and correctly sorted\n",
    "# by producing some test checksums\n",
    "# if you get for example a False entry in the agree column for\n",
    "# index value 20 that would mean you have at least one incorrectly\n",
    "# parsed or incorrectly sorted date in the **output** index\n",
    "# range 20,21,...,29\n",
    "try:\n",
    "    v_check = pd.DataFrame({'correct':\n",
    "    [6695, 14428, 16742, 9275, 12290, 14654, 9421, 10185, 11464, 16491,\n",
    "     11797, 14036, 15459, 9412, 13069, 10400, 10498, 14322, 13274, 11001,\n",
    "     11383, 11910, 10977, 9692, 10199, 10187, 15456, 13491, 9186, 13646,\n",
    "     11142, 13724, 10994, 12905, 15968, 16648, 13966, 14607, 16932, 14622,\n",
    "     17942, 18220, 17818, 18305, 19633, 12522, 13978, 18445, 20156, 14797],\n",
    "    'learner':[\n",
    "    (s_test.iloc[10*i:(i+1)*10].values * np.array(range(1,11))).sum() for i in range(50)]},\n",
    "    index=range(0,500,10)).assign(agree=lambda x:x['correct']==x['learner'])\n",
    "    print(\"Values checksums:\")\n",
    "    print(v_check)\n",
    "    assert v_check['agree'].all()\n",
    "    print(\"Passed values check\")\n",
    "except:\n",
    "    print(\"Failed values check\")"
   ]
  },
  {
   "cell_type": "code",
   "execution_count": null,
   "metadata": {
    "deletable": false,
    "editable": false,
    "nbgrader": {
     "cell_type": "code",
     "checksum": "c0843c1f0ad2aaa45fa9ac4012f1aa43",
     "grade": true,
     "grade_id": "cell-373f878879c00996",
     "locked": true,
     "points": 4,
     "schema_version": 3,
     "solution": false,
     "task": false
    }
   },
   "outputs": [],
   "source": []
  },
  {
   "cell_type": "code",
   "execution_count": null,
   "metadata": {
    "deletable": false,
    "editable": false,
    "nbgrader": {
     "cell_type": "code",
     "checksum": "0e2f5bb6bab79c07a81ec366c46c4d49",
     "grade": true,
     "grade_id": "cell-0ebae76e6cd794be",
     "locked": true,
     "points": 1,
     "schema_version": 3,
     "solution": false,
     "task": false
    }
   },
   "outputs": [],
   "source": []
  }
 ],
 "metadata": {
  "coursera": {
   "course_slug": "python-text-mining",
   "graded_item_id": "LvcWI",
   "launcher_item_id": "krne9",
   "part_id": "Mkp1I"
  },
  "kernelspec": {
   "display_name": "Python 3 (ipykernel)",
   "language": "python",
   "name": "python3"
  },
  "language_info": {
   "codemirror_mode": {
    "name": "ipython",
    "version": 3
   },
   "file_extension": ".py",
   "mimetype": "text/x-python",
   "name": "python",
   "nbconvert_exporter": "python",
   "pygments_lexer": "ipython3",
   "version": "3.9.13"
  },
  "vscode": {
   "interpreter": {
    "hash": "aee8b7b246df8f9039afb4144a1f6fd8d2ca17a180786b69acc140d282b71a49"
   }
  }
 },
 "nbformat": 4,
 "nbformat_minor": 4
}
